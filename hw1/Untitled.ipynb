{
 "cells": [
  {
   "cell_type": "code",
   "execution_count": 38,
   "metadata": {
    "collapsed": false,
    "deletable": true,
    "editable": true
   },
   "outputs": [],
   "source": [
    "import numpy as np\n",
    "import matplotlib.pyplot as plt\n",
    "import pandas as pd\n",
    "from sklearn.cross_validation import train_test_split\n",
    "from sklearn.metrics import roc_auc_score, f1_score\n",
    "from sklearn.ensemble import GradientBoostingClassifier\n",
    "from sklearn.tree import DecisionTreeRegressor\n",
    "from numba import jit\n",
    "\n",
    "%matplotlib inline"
   ]
  },
  {
   "cell_type": "code",
   "execution_count": 1857,
   "metadata": {
    "collapsed": false,
    "deletable": true,
    "editable": true
   },
   "outputs": [],
   "source": [
    "class DecisionTree(object):\n",
    "    def __init__(self, max_depth=None, root=None):\n",
    "        self.left_child = None\n",
    "        self.right_child = None\n",
    "        self.predicate = None\n",
    "        self.predicate_value = None\n",
    "        self.max_depth = max_depth\n",
    "        self.output = None\n",
    "        self.leaf_number = None\n",
    "        self.root = root\n",
    "        self.n_leafs = 0\n",
    "        self.leafs = []\n",
    "        if root is None:\n",
    "            self.root = self\n",
    "\n",
    "    @staticmethod\n",
    "    @jit(nopython=True)\n",
    "    def best_split_jit(x, y, sort_index):\n",
    "        n = sort_index.shape[1]\n",
    "        mean = np.mean(y[sort_index[0]])\n",
    "        smean = np.sum((y[sort_index[0]]-mean)**2)\n",
    "        best_feat = 0\n",
    "        best_val = x[sort_index[0, 0], 0]\n",
    "        min_gain = smean\n",
    "\n",
    "        for i in xrange(x.shape[1]):\n",
    "        \n",
    "            cur_ind = sort_index[i]\n",
    "            y1 = y[cur_ind]\n",
    "            x1 = x[cur_ind, i]\n",
    "\n",
    "            mean_l = 0.0\n",
    "            mean_r = mean\n",
    "            smean_l = 0.0\n",
    "            smean_r = smean\n",
    "            imp_left =None\n",
    "            imp_right = None\n",
    "            \n",
    "            for j in xrange(n-1):\n",
    "                delta = y1[j] - mean_l\n",
    "                mean_l = mean_l + delta / (j+1.0)\n",
    "                delta2 = y1[j] - mean_l\n",
    "                smean_l = smean_l + delta * delta2\n",
    "                \n",
    "                delta = y1[j] - mean_r\n",
    "                mean_r = mean_r - delta / (n-j-1.0)\n",
    "                delta2 = y1[j] - mean_r\n",
    "                smean_r = smean_r - delta * delta2\n",
    "\n",
    "                imp_left = smean_l\n",
    "                imp_right = smean_r\n",
    "\n",
    "                gain = imp_left + imp_right\n",
    "                if gain < min_gain and x1[j] != x1[j+1]:\n",
    "                    min_gain = gain\n",
    "                    best_feat = i\n",
    "                    best_val = (x1[j] + x1[j+1]) / 2.0\n",
    "\n",
    "        return best_feat, best_val\n",
    "\n",
    "    @staticmethod\n",
    "    def best_split(x, y, sort_index):\n",
    "        best_feat, best_val = DecisionTree.best_split_jit(x, y, sort_index)\n",
    "        ind = sort_index[best_feat][x[sort_index[best_feat], best_feat] < best_val]\n",
    "        mask = np.zeros_like(sort_index, dtype=bool)\n",
    "        for i in xrange(x.shape[1]):\n",
    "            mask[i] = np.isin(sort_index[i], ind, assume_unique=True)\n",
    "        \n",
    "        return sort_index[mask].reshape(x.shape[1], -1), sort_index[~mask].reshape(x.shape[1], -1), best_feat, best_val\n",
    "\n",
    "    def fit(self, x, y, sort_index=None):\n",
    "        if not (isinstance(x, np.ndarray) and isinstance(y, np.ndarray)):\n",
    "            print 'x and y should be np.ndarray'\n",
    "            return\n",
    "\n",
    "        if sort_index is None:\n",
    "            sort_index = np.asarray(np.argsort(x, axis=0).T)\n",
    "\n",
    "        if self.max_depth == 0 or sort_index.shape[1] == 1:\n",
    "            self.output = np.mean(y[sort_index[0]])\n",
    "            self.leaf_number = self.root.n_leafs\n",
    "            self.root.n_leafs += 1\n",
    "            self.root.leafs.append(self)\n",
    "            return self\n",
    "\n",
    "        sort_index1, sort_index2, self.predicate, self.predicate_value = self.best_split(x, y, sort_index)\n",
    "        \n",
    "        if sort_index1.shape[1] == 0 or sort_index2.shape[1] == 0:\n",
    "            self.output = np.mean(y[sort_index[0]])\n",
    "            self.leaf_number = self.root.n_leafs\n",
    "            self.root.n_leafs += 1\n",
    "            self.root.leafs.append(self)\n",
    "            return self\n",
    "        \n",
    "        if self.max_depth is not None:\n",
    "            self.left_child = DecisionTree(max_depth=self.max_depth-1, root=self.root).fit(x, y, sort_index1)\n",
    "            self.right_child = DecisionTree(max_depth=self.max_depth-1, root=self.root).fit(x, y, sort_index2)\n",
    "        else:\n",
    "            self.left_child = DecisionTree(root=self.root).fit(x, y, sort_index1)\n",
    "            self.right_child = DecisionTree(root=self.root).fit(x, y, sort_index2)\n",
    "\n",
    "        return self\n",
    "\n",
    "    def __predict__(self, x):\n",
    "        if self.output is not None:\n",
    "            return self.output\n",
    "        if x[self.predicate] < self.predicate_value:\n",
    "            return self.left_child.__predict__(x)\n",
    "        else:\n",
    "            return self.right_child.__predict__(x)\n",
    "\n",
    "    def predict(self, x):\n",
    "        y_pred = np.zeros(x.shape[0])\n",
    "        for i, xx in enumerate(x):\n",
    "            y_pred[i] = self.__predict__(xx)\n",
    "        return y_pred\n",
    "\n",
    "    def get_leaf(self, x):\n",
    "        if self.leaf_number is not None:\n",
    "            return self.leaf_number\n",
    "        if x[self.predicate] < self.predicate_value:\n",
    "            return self.left_child.get_leaf(x)\n",
    "        else:\n",
    "            return self.right_child.get_leaf(x)"
   ]
  },
  {
   "cell_type": "code",
   "execution_count": 1886,
   "metadata": {
    "collapsed": true,
    "deletable": true,
    "editable": true
   },
   "outputs": [],
   "source": [
    "x_true = np.arange(-5, 5, 0.002)\n",
    "x = x_true + np.random.rand(x_true.shape[0]) - 0.5\n",
    "y_true = np.sin(x_true)+x_true/3\n",
    "y = y_true + np.random.rand(x_true.shape[0]) - 0.5"
   ]
  },
  {
   "cell_type": "code",
   "execution_count": 1887,
   "metadata": {
    "collapsed": true,
    "deletable": true,
    "editable": true
   },
   "outputs": [],
   "source": [
    "tree = DecisionTree(max_depth=5)"
   ]
  },
  {
   "cell_type": "code",
   "execution_count": 1888,
   "metadata": {
    "collapsed": false,
    "deletable": true,
    "editable": true,
    "scrolled": true
   },
   "outputs": [
    {
     "name": "stdout",
     "output_type": "stream",
     "text": [
      "CPU times: user 8.36 ms, sys: 3.25 ms, total: 11.6 ms\n",
      "Wall time: 8.5 ms\n"
     ]
    },
    {
     "data": {
      "text/plain": [
       "<__main__.DecisionTree at 0x1372c6310>"
      ]
     },
     "execution_count": 1888,
     "metadata": {},
     "output_type": "execute_result"
    }
   ],
   "source": [
    "%time tree.fit(x.reshape(-1,1), y)"
   ]
  },
  {
   "cell_type": "code",
   "execution_count": 1889,
   "metadata": {
    "collapsed": false,
    "deletable": true,
    "editable": true,
    "scrolled": true
   },
   "outputs": [
    {
     "name": "stdout",
     "output_type": "stream",
     "text": [
      "CPU times: user 28.5 ms, sys: 9.75 ms, total: 38.2 ms\n",
      "Wall time: 29.2 ms\n"
     ]
    }
   ],
   "source": [
    "%time y_hat = tree.predict(x_true.reshape(-1,1))"
   ]
  },
  {
   "cell_type": "code",
   "execution_count": 1890,
   "metadata": {
    "collapsed": false,
    "deletable": true,
    "editable": true
   },
   "outputs": [
    {
     "data": {
      "text/plain": [
       "<matplotlib.legend.Legend at 0x13741a950>"
      ]
     },
     "execution_count": 1890,
     "metadata": {},
     "output_type": "execute_result"
    },
    {
     "data": {
      "image/png": "[encoded data removed]",
      "text/plain": [
       "<matplotlib.figure.Figure at 0x1372b75d0>"
      ]
     },
     "metadata": {},
     "output_type": "display_data"
    }
   ],
   "source": [
    "plt.plot(x_true, y_true, c='g', label='$f(x)$', linewidth=6, alpha=0.5)\n",
    "plt.scatter(x[::100], y[::100], linewidths=0.1, label='actual data', alpha=0.5)\n",
    "plt.plot(x_true, y_hat, c='r', label='decision tree \\nregression', linewidth=6, alpha=0.5)\n",
    "plt.legend(loc=2)"
   ]
  },
  {
   "cell_type": "markdown",
   "metadata": {
    "deletable": true,
    "editable": true
   },
   "source": [
    "### sklearn cart"
   ]
  },
  {
   "cell_type": "code",
   "execution_count": 1891,
   "metadata": {
    "collapsed": true,
    "deletable": true,
    "editable": true
   },
   "outputs": [],
   "source": [
    "tree = DecisionTreeRegressor(max_depth=5)"
   ]
  },
  {
   "cell_type": "code",
   "execution_count": 1892,
   "metadata": {
    "collapsed": false,
    "deletable": true,
    "editable": true,
    "scrolled": false
   },
   "outputs": [
    {
     "name": "stdout",
     "output_type": "stream",
     "text": [
      "CPU times: user 5.32 ms, sys: 1.73 ms, total: 7.05 ms\n",
      "Wall time: 5.06 ms\n"
     ]
    },
    {
     "data": {
      "text/plain": [
       "DecisionTreeRegressor(criterion='mse', max_depth=5, max_features=None,\n",
       "           max_leaf_nodes=None, min_impurity_decrease=0.0,\n",
       "           min_impurity_split=None, min_samples_leaf=1,\n",
       "           min_samples_split=2, min_weight_fraction_leaf=0.0,\n",
       "           presort=False, random_state=None, splitter='best')"
      ]
     },
     "execution_count": 1892,
     "metadata": {},
     "output_type": "execute_result"
    }
   ],
   "source": [
    "%time tree.fit(x.reshape(-1,1), y)"
   ]
  },
  {
   "cell_type": "code",
   "execution_count": 1893,
   "metadata": {
    "collapsed": false,
    "deletable": true,
    "editable": true,
    "scrolled": true
   },
   "outputs": [
    {
     "name": "stdout",
     "output_type": "stream",
     "text": [
      "CPU times: user 696 µs, sys: 358 µs, total: 1.05 ms\n",
      "Wall time: 640 µs\n"
     ]
    }
   ],
   "source": [
    "%time y_hat = tree.predict(x_true.reshape(-1,1))"
   ]
  },
  {
   "cell_type": "code",
   "execution_count": 1894,
   "metadata": {
    "collapsed": false,
    "deletable": true,
    "editable": true
   },
   "outputs": [
    {
     "data": {
      "text/plain": [
       "<matplotlib.legend.Legend at 0x13754fb90>"
      ]
     },
     "execution_count": 1894,
     "metadata": {},
     "output_type": "execute_result"
    },
    {
     "data": {
      "image/png": "[encoded data removed]",
      "text/plain": [
       "<matplotlib.figure.Figure at 0x13743d3d0>"
      ]
     },
     "metadata": {},
     "output_type": "display_data"
    }
   ],
   "source": [
    "plt.plot(x_true, y_true, c='g', label='$f(x)$', linewidth=6, alpha=0.5)\n",
    "plt.scatter(x[::100], y[::100], linewidths=0.1, label='actual data', alpha=0.5)\n",
    "plt.plot(x_true, y_hat, c='r', label='decision tree \\nregression', linewidth=6, alpha=0.5)\n",
    "plt.legend(loc=2)"
   ]
  },
  {
   "cell_type": "markdown",
   "metadata": {
    "deletable": true,
    "editable": true
   },
   "source": [
    "### Boosting"
   ]
  },
  {
   "cell_type": "code",
   "execution_count": 1958,
   "metadata": {
    "collapsed": false,
    "deletable": true,
    "editable": true
   },
   "outputs": [],
   "source": [
    "import sys\n",
    "\n",
    "class BernoulliConst(object):\n",
    "    def __init__(self):\n",
    "        self.base = None\n",
    "    def fit(self, x, y, *args):\n",
    "        self.base = 0.5*(np.log(1 + np.mean(y)) - np.log(1 - np.mean(y)))\n",
    "        return self\n",
    "    def predict(self, x, *args):\n",
    "        return np.ones(x.shape[0]).reshape(-1, 1)*self.base\n",
    "    \n",
    "class GBoosting(object):\n",
    "    def __init__(self, max_depth=None, n_iters=10, lr=0.1, init=BernoulliConst()):\n",
    "        self.max_depth = max_depth\n",
    "        self.n_iters = n_iters\n",
    "        self.trees = []\n",
    "        self.lr = lr\n",
    "        self.init = init\n",
    "        \n",
    "    @staticmethod\n",
    "    @jit(nopython=True)\n",
    "    def calc_new_out(y_hi):\n",
    "        return np.sum(y_hi) / np.sum(np.abs(y_hi)*(2.0 - np.abs(y_hi)))\n",
    "    \n",
    "    def fit(self, x, y):\n",
    "        self.init.fit(x, y)\n",
    "        f_m = self.init.predict(x).reshape(-1)\n",
    "        \n",
    "        for i in xrange(self.n_iters):\n",
    "            sys.stdout.write(\"\\r\"+\"iter \"+str(i))\n",
    "            \n",
    "            y_h = 2.0*y/(1.0 + np.exp(2.0*y*f_m))\n",
    "            tree = DecisionTree(max_depth=self.max_depth)\n",
    "            tree.fit(x, y_h)\n",
    "            self.trees.append(tree)\n",
    "            \n",
    "            leafs_numbers = np.zeros_like(y, dtype=int)\n",
    "            for j, xx in enumerate(x):\n",
    "                leafs_numbers[j] = tree.get_leaf(xx)\n",
    "            \n",
    "            for leaf in tree.leafs:\n",
    "                ind = leafs_numbers == leaf.leaf_number\n",
    "                y_hi = y_h[ind] \n",
    "                leaf.output = self.lr*self.calc_new_out(y_hi)\n",
    "                \n",
    "            f_m += tree.predict(x)\n",
    "\n",
    "        return self\n",
    "    \n",
    "    @staticmethod\n",
    "    def loss_fn(y, f):\n",
    "        return np.sum(np.log(1.0+np.exp(-2.0*y*f)))\n",
    "\n",
    "    def predict(self, x):\n",
    "        y = self.init.predict(x).reshape(-1) + np.sum(tree.predict(x) for tree in self.trees)\n",
    "        y_prob = 1.0 / (1 + np.exp(-2.0*y))\n",
    "        return 2*np.array(y_prob > 0.5, dtype=int) - 1\n",
    "    \n",
    "    def staged_predict(self, x):\n",
    "        y = self.init.predict(x).reshape(-1)\n",
    "        y_prob = 1.0 / (1 + np.exp(-2.0*y))\n",
    "        for tree in self.trees:\n",
    "            y += tree.predict(x)\n",
    "            y_prob = 1.0 / (1 + np.exp(-2.0*y))\n",
    "            yield 2*np.array(y_prob > 0.5, dtype=int) - 1\n",
    " \n",
    "    def predict_proba(self, x):\n",
    "        y = self.init.predict(x).reshape(-1) + np.sum(tree.predict(x) for tree in self.trees)\n",
    "        y_prob = 1.0 / (1 + np.exp(-2.0*y))\n",
    "        return y_prob"
   ]
  },
  {
   "cell_type": "markdown",
   "metadata": {
    "deletable": true,
    "editable": true
   },
   "source": [
    "### wine dataset"
   ]
  },
  {
   "cell_type": "code",
   "execution_count": 355,
   "metadata": {
    "collapsed": false,
    "deletable": true,
    "editable": true
   },
   "outputs": [],
   "source": [
    "df_wine = pd.read_csv('https://archive.ics.uci.edu/ml/machine-learning-databases/wine-quality/winequality-red.csv', sep=';')"
   ]
  },
  {
   "cell_type": "code",
   "execution_count": 356,
   "metadata": {
    "collapsed": false,
    "deletable": true,
    "editable": true
   },
   "outputs": [
    {
     "data": {
      "text/html": [
       "<div>\n",
       "<table border=\"1\" class=\"dataframe\">\n",
       "  <thead>\n",
       "    <tr style=\"text-align: right;\">\n",
       "      <th></th>\n",
       "      <th>fixed acidity</th>\n",
       "      <th>volatile acidity</th>\n",
       "      <th>citric acid</th>\n",
       "      <th>residual sugar</th>\n",
       "      <th>chlorides</th>\n",
       "      <th>free sulfur dioxide</th>\n",
       "      <th>total sulfur dioxide</th>\n",
       "      <th>density</th>\n",
       "      <th>pH</th>\n",
       "      <th>sulphates</th>\n",
       "      <th>alcohol</th>\n",
       "      <th>quality</th>\n",
       "    </tr>\n",
       "  </thead>\n",
       "  <tbody>\n",
       "    <tr>\n",
       "      <th>0</th>\n",
       "      <td>7.4</td>\n",
       "      <td>0.70</td>\n",
       "      <td>0.00</td>\n",
       "      <td>1.9</td>\n",
       "      <td>0.076</td>\n",
       "      <td>11.0</td>\n",
       "      <td>34.0</td>\n",
       "      <td>0.9978</td>\n",
       "      <td>3.51</td>\n",
       "      <td>0.56</td>\n",
       "      <td>9.4</td>\n",
       "      <td>5</td>\n",
       "    </tr>\n",
       "    <tr>\n",
       "      <th>1</th>\n",
       "      <td>7.8</td>\n",
       "      <td>0.88</td>\n",
       "      <td>0.00</td>\n",
       "      <td>2.6</td>\n",
       "      <td>0.098</td>\n",
       "      <td>25.0</td>\n",
       "      <td>67.0</td>\n",
       "      <td>0.9968</td>\n",
       "      <td>3.20</td>\n",
       "      <td>0.68</td>\n",
       "      <td>9.8</td>\n",
       "      <td>5</td>\n",
       "    </tr>\n",
       "    <tr>\n",
       "      <th>2</th>\n",
       "      <td>7.8</td>\n",
       "      <td>0.76</td>\n",
       "      <td>0.04</td>\n",
       "      <td>2.3</td>\n",
       "      <td>0.092</td>\n",
       "      <td>15.0</td>\n",
       "      <td>54.0</td>\n",
       "      <td>0.9970</td>\n",
       "      <td>3.26</td>\n",
       "      <td>0.65</td>\n",
       "      <td>9.8</td>\n",
       "      <td>5</td>\n",
       "    </tr>\n",
       "    <tr>\n",
       "      <th>3</th>\n",
       "      <td>11.2</td>\n",
       "      <td>0.28</td>\n",
       "      <td>0.56</td>\n",
       "      <td>1.9</td>\n",
       "      <td>0.075</td>\n",
       "      <td>17.0</td>\n",
       "      <td>60.0</td>\n",
       "      <td>0.9980</td>\n",
       "      <td>3.16</td>\n",
       "      <td>0.58</td>\n",
       "      <td>9.8</td>\n",
       "      <td>6</td>\n",
       "    </tr>\n",
       "    <tr>\n",
       "      <th>4</th>\n",
       "      <td>7.4</td>\n",
       "      <td>0.70</td>\n",
       "      <td>0.00</td>\n",
       "      <td>1.9</td>\n",
       "      <td>0.076</td>\n",
       "      <td>11.0</td>\n",
       "      <td>34.0</td>\n",
       "      <td>0.9978</td>\n",
       "      <td>3.51</td>\n",
       "      <td>0.56</td>\n",
       "      <td>9.4</td>\n",
       "      <td>5</td>\n",
       "    </tr>\n",
       "  </tbody>\n",
       "</table>\n",
       "</div>"
      ],
      "text/plain": [
       "   fixed acidity  volatile acidity  citric acid  residual sugar  chlorides  \\\n",
       "0            7.4              0.70         0.00             1.9      0.076   \n",
       "1            7.8              0.88         0.00             2.6      0.098   \n",
       "2            7.8              0.76         0.04             2.3      0.092   \n",
       "3           11.2              0.28         0.56             1.9      0.075   \n",
       "4            7.4              0.70         0.00             1.9      0.076   \n",
       "\n",
       "   free sulfur dioxide  total sulfur dioxide  density    pH  sulphates  \\\n",
       "0                 11.0                  34.0   0.9978  3.51       0.56   \n",
       "1                 25.0                  67.0   0.9968  3.20       0.68   \n",
       "2                 15.0                  54.0   0.9970  3.26       0.65   \n",
       "3                 17.0                  60.0   0.9980  3.16       0.58   \n",
       "4                 11.0                  34.0   0.9978  3.51       0.56   \n",
       "\n",
       "   alcohol  quality  \n",
       "0      9.4        5  \n",
       "1      9.8        5  \n",
       "2      9.8        5  \n",
       "3      9.8        6  \n",
       "4      9.4        5  "
      ]
     },
     "execution_count": 356,
     "metadata": {},
     "output_type": "execute_result"
    }
   ],
   "source": [
    "df_wine.head()"
   ]
  },
  {
   "cell_type": "code",
   "execution_count": 1468,
   "metadata": {
    "collapsed": false,
    "deletable": true,
    "editable": true
   },
   "outputs": [
    {
     "data": {
      "text/plain": [
       "(1599, 13)"
      ]
     },
     "execution_count": 1468,
     "metadata": {},
     "output_type": "execute_result"
    }
   ],
   "source": [
    "df_wine.shape"
   ]
  },
  {
   "cell_type": "code",
   "execution_count": 359,
   "metadata": {
    "collapsed": true,
    "deletable": true,
    "editable": true
   },
   "outputs": [],
   "source": [
    "df_wine['target'] = (df_wine.quality > 5).astype(int)"
   ]
  },
  {
   "cell_type": "code",
   "execution_count": 360,
   "metadata": {
    "collapsed": true,
    "deletable": true,
    "editable": true
   },
   "outputs": [],
   "source": [
    "df_wine.target = 2*df_wine.target - 1"
   ]
  },
  {
   "cell_type": "code",
   "execution_count": 1469,
   "metadata": {
    "collapsed": false,
    "deletable": true,
    "editable": true
   },
   "outputs": [
    {
     "data": {
      "text/plain": [
       " 1    855\n",
       "-1    744\n",
       "Name: target, dtype: int64"
      ]
     },
     "execution_count": 1469,
     "metadata": {},
     "output_type": "execute_result"
    }
   ],
   "source": [
    "df_wine.target.value_counts()"
   ]
  },
  {
   "cell_type": "code",
   "execution_count": 1897,
   "metadata": {
    "collapsed": false,
    "deletable": true,
    "editable": true
   },
   "outputs": [],
   "source": [
    "X = np.array(df_wine.drop(['quality', 'target'], axis=1))"
   ]
  },
  {
   "cell_type": "code",
   "execution_count": 1898,
   "metadata": {
    "collapsed": false,
    "deletable": true,
    "editable": true
   },
   "outputs": [
    {
     "data": {
      "text/plain": [
       "(1599, 11)"
      ]
     },
     "execution_count": 1898,
     "metadata": {},
     "output_type": "execute_result"
    }
   ],
   "source": [
    "X.shape"
   ]
  },
  {
   "cell_type": "code",
   "execution_count": 1899,
   "metadata": {
    "collapsed": true,
    "deletable": true,
    "editable": true
   },
   "outputs": [],
   "source": [
    "y = np.array(df_wine.target)"
   ]
  },
  {
   "cell_type": "code",
   "execution_count": 1900,
   "metadata": {
    "collapsed": false,
    "deletable": true,
    "editable": true
   },
   "outputs": [
    {
     "data": {
      "text/plain": [
       "(1599,)"
      ]
     },
     "execution_count": 1900,
     "metadata": {},
     "output_type": "execute_result"
    }
   ],
   "source": [
    "y.shape"
   ]
  },
  {
   "cell_type": "code",
   "execution_count": 1901,
   "metadata": {
    "collapsed": true,
    "deletable": true,
    "editable": true
   },
   "outputs": [],
   "source": [
    "x_train, x_test, y_train, y_test = train_test_split(X, y, test_size=0.3)"
   ]
  },
  {
   "cell_type": "code",
   "execution_count": 1902,
   "metadata": {
    "collapsed": false,
    "deletable": true,
    "editable": true
   },
   "outputs": [
    {
     "data": {
      "text/plain": [
       "(1119, 11)"
      ]
     },
     "execution_count": 1902,
     "metadata": {},
     "output_type": "execute_result"
    }
   ],
   "source": [
    "x_train.shape"
   ]
  },
  {
   "cell_type": "code",
   "execution_count": 1925,
   "metadata": {
    "collapsed": true,
    "deletable": true,
    "editable": true
   },
   "outputs": [],
   "source": [
    "gbt = GBoosting(max_depth=4, n_iters=1000, lr=0.1, subs=1.0)"
   ]
  },
  {
   "cell_type": "code",
   "execution_count": 1926,
   "metadata": {
    "collapsed": false,
    "deletable": true,
    "editable": true,
    "scrolled": true
   },
   "outputs": [
    {
     "name": "stdout",
     "output_type": "stream",
     "text": [
      "iter 999"
     ]
    },
    {
     "data": {
      "text/plain": [
       "<__main__.GBoosting at 0x13b914490>"
      ]
     },
     "execution_count": 1926,
     "metadata": {},
     "output_type": "execute_result"
    }
   ],
   "source": [
    "gbt.fit(x_train, y_train)"
   ]
  },
  {
   "cell_type": "code",
   "execution_count": 1927,
   "metadata": {
    "collapsed": true,
    "deletable": true,
    "editable": true
   },
   "outputs": [],
   "source": [
    "gbt2 = GradientBoostingClassifier(max_depth=4, criterion='mse', n_estimators=1000)"
   ]
  },
  {
   "cell_type": "code",
   "execution_count": 1928,
   "metadata": {
    "collapsed": false,
    "deletable": true,
    "editable": true
   },
   "outputs": [
    {
     "data": {
      "text/plain": [
       "GradientBoostingClassifier(criterion='mse', init=None, learning_rate=0.1,\n",
       "              loss='deviance', max_depth=4, max_features=None,\n",
       "              max_leaf_nodes=None, min_impurity_decrease=0.0,\n",
       "              min_impurity_split=None, min_samples_leaf=1,\n",
       "              min_samples_split=2, min_weight_fraction_leaf=0.0,\n",
       "              n_estimators=1000, presort='auto', random_state=None,\n",
       "              subsample=1.0, verbose=0, warm_start=False)"
      ]
     },
     "execution_count": 1928,
     "metadata": {},
     "output_type": "execute_result"
    }
   ],
   "source": [
    "gbt2.fit(x_train, y_train)"
   ]
  },
  {
   "cell_type": "code",
   "execution_count": 1929,
   "metadata": {
    "collapsed": true,
    "deletable": true,
    "editable": true
   },
   "outputs": [],
   "source": [
    "def get_score(pred, true):\n",
    "    return np.sum(np.log(1.0+np.exp(-2.0*true*pred)))"
   ]
  },
  {
   "cell_type": "code",
   "execution_count": 1930,
   "metadata": {
    "collapsed": false,
    "deletable": true,
    "editable": true,
    "scrolled": true
   },
   "outputs": [
    {
     "data": {
      "text/plain": [
       "<matplotlib.collections.PolyCollection at 0x13c80c990>"
      ]
     },
     "execution_count": 1930,
     "metadata": {},
     "output_type": "execute_result"
    },
    {
     "data": {
      "image/png": "[encoded data removed]",
      "text/plain": [
       "<matplotlib.figure.Figure at 0x13b914c90>"
      ]
     },
     "metadata": {},
     "output_type": "display_data"
    }
   ],
   "source": [
    "score2 = [get_score(pred, y_train) for pred in gbt2.staged_predict(x_train)]\n",
    "plt.plot([get_score(pred, y_train) for pred in gbt.staged_predict(x_train)])\n",
    "plt.plot(score2)\n",
    "plt.fill_between(xrange(len(score2)), np.array(score2) -np.mean(score2) * 0.03, \n",
    "                 np.array(score2) + np.mean(score2) * 0.03, alpha=0.1, color=\"g\")"
   ]
  },
  {
   "cell_type": "code",
   "execution_count": 1931,
   "metadata": {
    "collapsed": false,
    "deletable": true,
    "editable": true,
    "scrolled": true
   },
   "outputs": [
    {
     "data": {
      "text/plain": [
       "<matplotlib.legend.Legend at 0x137c86f50>"
      ]
     },
     "execution_count": 1931,
     "metadata": {},
     "output_type": "execute_result"
    },
    {
     "data": {
      "image/png": "[encoded data removed]",
      "text/plain": [
       "<matplotlib.figure.Figure at 0x13c7859d0>"
      ]
     },
     "metadata": {},
     "output_type": "display_data"
    }
   ],
   "source": [
    "score2 = [get_score(pred, y_test) for pred in gbt2.staged_predict(x_test)]\n",
    "plt.plot([get_score(pred, y_test) for pred in gbt.staged_predict(x_test)],label='my')\n",
    "plt.plot(score2, label='sc')\n",
    "plt.fill_between(xrange(len(score2)), np.array(score2) -np.mean(score2) * 0.03, \n",
    "                 np.array(score2) + np.mean(score2) * 0.03, alpha=0.1, color=\"g\")\n",
    "plt.legend()"
   ]
  },
  {
   "cell_type": "markdown",
   "metadata": {
    "collapsed": true,
    "deletable": true,
    "editable": true
   },
   "source": [
    "### spam dataset"
   ]
  },
  {
   "cell_type": "code",
   "execution_count": 16,
   "metadata": {
    "collapsed": true,
    "deletable": true,
    "editable": true
   },
   "outputs": [],
   "source": [
    "df = pd.read_csv('./spam.train.txt', sep=' ', header=None)"
   ]
  },
  {
   "cell_type": "code",
   "execution_count": 17,
   "metadata": {
    "collapsed": false,
    "deletable": true,
    "editable": true
   },
   "outputs": [
    {
     "data": {
      "text/html": [
       "<div>\n",
       "<table border=\"1\" class=\"dataframe\">\n",
       "  <thead>\n",
       "    <tr style=\"text-align: right;\">\n",
       "      <th></th>\n",
       "      <th>0</th>\n",
       "      <th>1</th>\n",
       "      <th>2</th>\n",
       "      <th>3</th>\n",
       "      <th>4</th>\n",
       "      <th>5</th>\n",
       "      <th>6</th>\n",
       "      <th>7</th>\n",
       "      <th>8</th>\n",
       "      <th>9</th>\n",
       "      <th>...</th>\n",
       "      <th>93</th>\n",
       "      <th>94</th>\n",
       "      <th>95</th>\n",
       "      <th>96</th>\n",
       "      <th>97</th>\n",
       "      <th>98</th>\n",
       "      <th>99</th>\n",
       "      <th>100</th>\n",
       "      <th>101</th>\n",
       "      <th>102</th>\n",
       "    </tr>\n",
       "  </thead>\n",
       "  <tbody>\n",
       "    <tr>\n",
       "      <th>0</th>\n",
       "      <td>1</td>\n",
       "      <td>0.349723</td>\n",
       "      <td>0.658872</td>\n",
       "      <td>0.341822</td>\n",
       "      <td>0.369098</td>\n",
       "      <td>0.448115</td>\n",
       "      <td>0.327417</td>\n",
       "      <td>0.517556</td>\n",
       "      <td>0.393646</td>\n",
       "      <td>0.430504</td>\n",
       "      <td>...</td>\n",
       "      <td>0.470654</td>\n",
       "      <td>0.410545</td>\n",
       "      <td>0.590262</td>\n",
       "      <td>0.450158</td>\n",
       "      <td>0.443301</td>\n",
       "      <td>0.467284</td>\n",
       "      <td>0.438850</td>\n",
       "      <td>0.413235</td>\n",
       "      <td>0.433625</td>\n",
       "      <td>0.575691</td>\n",
       "    </tr>\n",
       "    <tr>\n",
       "      <th>1</th>\n",
       "      <td>1</td>\n",
       "      <td>0.320356</td>\n",
       "      <td>0.214419</td>\n",
       "      <td>0.796892</td>\n",
       "      <td>0.283771</td>\n",
       "      <td>0.429499</td>\n",
       "      <td>0.336705</td>\n",
       "      <td>0.209530</td>\n",
       "      <td>0.411694</td>\n",
       "      <td>0.620735</td>\n",
       "      <td>...</td>\n",
       "      <td>0.470654</td>\n",
       "      <td>0.410545</td>\n",
       "      <td>0.454687</td>\n",
       "      <td>0.450158</td>\n",
       "      <td>0.443301</td>\n",
       "      <td>0.467284</td>\n",
       "      <td>0.438850</td>\n",
       "      <td>0.413235</td>\n",
       "      <td>0.433625</td>\n",
       "      <td>0.354707</td>\n",
       "    </tr>\n",
       "    <tr>\n",
       "      <th>2</th>\n",
       "      <td>1</td>\n",
       "      <td>0.575150</td>\n",
       "      <td>0.658872</td>\n",
       "      <td>0.341822</td>\n",
       "      <td>0.541797</td>\n",
       "      <td>0.430258</td>\n",
       "      <td>0.575468</td>\n",
       "      <td>0.509843</td>\n",
       "      <td>0.518629</td>\n",
       "      <td>0.383852</td>\n",
       "      <td>...</td>\n",
       "      <td>0.470654</td>\n",
       "      <td>0.410545</td>\n",
       "      <td>0.454687</td>\n",
       "      <td>0.450158</td>\n",
       "      <td>0.443301</td>\n",
       "      <td>0.467284</td>\n",
       "      <td>0.992203</td>\n",
       "      <td>0.768557</td>\n",
       "      <td>0.433625</td>\n",
       "      <td>0.391791</td>\n",
       "    </tr>\n",
       "    <tr>\n",
       "      <th>3</th>\n",
       "      <td>1</td>\n",
       "      <td>0.349723</td>\n",
       "      <td>0.658872</td>\n",
       "      <td>0.341822</td>\n",
       "      <td>0.440102</td>\n",
       "      <td>0.455950</td>\n",
       "      <td>0.327417</td>\n",
       "      <td>0.560001</td>\n",
       "      <td>0.398133</td>\n",
       "      <td>0.376336</td>\n",
       "      <td>...</td>\n",
       "      <td>0.470654</td>\n",
       "      <td>0.410545</td>\n",
       "      <td>0.607055</td>\n",
       "      <td>0.450158</td>\n",
       "      <td>0.443301</td>\n",
       "      <td>0.467284</td>\n",
       "      <td>0.438850</td>\n",
       "      <td>0.413235</td>\n",
       "      <td>0.433625</td>\n",
       "      <td>0.550478</td>\n",
       "    </tr>\n",
       "    <tr>\n",
       "      <th>4</th>\n",
       "      <td>1</td>\n",
       "      <td>0.320356</td>\n",
       "      <td>0.658872</td>\n",
       "      <td>0.341822</td>\n",
       "      <td>0.385197</td>\n",
       "      <td>0.437169</td>\n",
       "      <td>0.709301</td>\n",
       "      <td>0.419971</td>\n",
       "      <td>0.288835</td>\n",
       "      <td>0.382394</td>\n",
       "      <td>...</td>\n",
       "      <td>0.470654</td>\n",
       "      <td>0.410545</td>\n",
       "      <td>0.454687</td>\n",
       "      <td>0.450158</td>\n",
       "      <td>0.443301</td>\n",
       "      <td>0.467284</td>\n",
       "      <td>0.438850</td>\n",
       "      <td>0.413235</td>\n",
       "      <td>0.433625</td>\n",
       "      <td>0.741449</td>\n",
       "    </tr>\n",
       "  </tbody>\n",
       "</table>\n",
       "<p>5 rows × 103 columns</p>\n",
       "</div>"
      ],
      "text/plain": [
       "   0         1         2         3         4         5         6         7    \\\n",
       "0    1  0.349723  0.658872  0.341822  0.369098  0.448115  0.327417  0.517556   \n",
       "1    1  0.320356  0.214419  0.796892  0.283771  0.429499  0.336705  0.209530   \n",
       "2    1  0.575150  0.658872  0.341822  0.541797  0.430258  0.575468  0.509843   \n",
       "3    1  0.349723  0.658872  0.341822  0.440102  0.455950  0.327417  0.560001   \n",
       "4    1  0.320356  0.658872  0.341822  0.385197  0.437169  0.709301  0.419971   \n",
       "\n",
       "        8         9      ...          93        94        95        96   \\\n",
       "0  0.393646  0.430504    ...     0.470654  0.410545  0.590262  0.450158   \n",
       "1  0.411694  0.620735    ...     0.470654  0.410545  0.454687  0.450158   \n",
       "2  0.518629  0.383852    ...     0.470654  0.410545  0.454687  0.450158   \n",
       "3  0.398133  0.376336    ...     0.470654  0.410545  0.607055  0.450158   \n",
       "4  0.288835  0.382394    ...     0.470654  0.410545  0.454687  0.450158   \n",
       "\n",
       "        97        98        99        100       101       102  \n",
       "0  0.443301  0.467284  0.438850  0.413235  0.433625  0.575691  \n",
       "1  0.443301  0.467284  0.438850  0.413235  0.433625  0.354707  \n",
       "2  0.443301  0.467284  0.992203  0.768557  0.433625  0.391791  \n",
       "3  0.443301  0.467284  0.438850  0.413235  0.433625  0.550478  \n",
       "4  0.443301  0.467284  0.438850  0.413235  0.433625  0.741449  \n",
       "\n",
       "[5 rows x 103 columns]"
      ]
     },
     "execution_count": 17,
     "metadata": {},
     "output_type": "execute_result"
    }
   ],
   "source": [
    "df.head()"
   ]
  },
  {
   "cell_type": "code",
   "execution_count": 18,
   "metadata": {
    "collapsed": false,
    "deletable": true,
    "editable": true
   },
   "outputs": [
    {
     "data": {
      "text/plain": [
       "1    4123\n",
       "0    2970\n",
       "Name: 0, dtype: int64"
      ]
     },
     "execution_count": 18,
     "metadata": {},
     "output_type": "execute_result"
    }
   ],
   "source": [
    "df[0].value_counts()"
   ]
  },
  {
   "cell_type": "code",
   "execution_count": 19,
   "metadata": {
    "collapsed": false,
    "deletable": true,
    "editable": true
   },
   "outputs": [],
   "source": [
    "x_train = np.array(df.drop([0], axis=1))"
   ]
  },
  {
   "cell_type": "code",
   "execution_count": 20,
   "metadata": {
    "collapsed": false,
    "deletable": true,
    "editable": true
   },
   "outputs": [
    {
     "data": {
      "text/plain": [
       "(7093, 102)"
      ]
     },
     "execution_count": 20,
     "metadata": {},
     "output_type": "execute_result"
    }
   ],
   "source": [
    "x_train.shape"
   ]
  },
  {
   "cell_type": "code",
   "execution_count": 21,
   "metadata": {
    "collapsed": true,
    "deletable": true,
    "editable": true
   },
   "outputs": [],
   "source": [
    "y_train = np.array(df[0])\n",
    "y_train = 2*y_train - 1"
   ]
  },
  {
   "cell_type": "code",
   "execution_count": 1973,
   "metadata": {
    "collapsed": true,
    "deletable": true,
    "editable": true
   },
   "outputs": [],
   "source": [
    "gbt = GBoosting(max_depth=5, n_iters=1000, lr=0.1)"
   ]
  },
  {
   "cell_type": "code",
   "execution_count": 1974,
   "metadata": {
    "collapsed": false,
    "deletable": true,
    "editable": true,
    "scrolled": true
   },
   "outputs": [
    {
     "name": "stdout",
     "output_type": "stream",
     "text": [
      "iter 999CPU times: user 7min 18s, sys: 10.2 s, total: 7min 28s\n",
      "Wall time: 7min 29s\n"
     ]
    },
    {
     "data": {
      "text/plain": [
       "<__main__.GBoosting at 0x135b64ed0>"
      ]
     },
     "execution_count": 1974,
     "metadata": {},
     "output_type": "execute_result"
    }
   ],
   "source": [
    "%time gbt.fit(x_train, y_train)"
   ]
  },
  {
   "cell_type": "code",
   "execution_count": 1975,
   "metadata": {
    "collapsed": true,
    "deletable": true,
    "editable": true
   },
   "outputs": [],
   "source": [
    "gbt2 = GradientBoostingClassifier(max_depth=5, criterion='mse', n_estimators=1000, init=BernoulliConst(), learning_rate=0.1)"
   ]
  },
  {
   "cell_type": "code",
   "execution_count": 1976,
   "metadata": {
    "collapsed": false,
    "deletable": true,
    "editable": true,
    "scrolled": false
   },
   "outputs": [
    {
     "name": "stdout",
     "output_type": "stream",
     "text": [
      "CPU times: user 41.9 s, sys: 62.3 ms, total: 41.9 s\n",
      "Wall time: 42 s\n"
     ]
    },
    {
     "data": {
      "text/plain": [
       "GradientBoostingClassifier(criterion='mse',\n",
       "              init=<__main__.BernoulliConst object at 0x1397d2a10>,\n",
       "              learning_rate=0.1, loss='deviance', max_depth=5,\n",
       "              max_features=None, max_leaf_nodes=None,\n",
       "              min_impurity_decrease=0.0, min_impurity_split=None,\n",
       "              min_samples_leaf=1, min_samples_split=2,\n",
       "              min_weight_fraction_leaf=0.0, n_estimators=1000,\n",
       "              presort='auto', random_state=None, subsample=1.0, verbose=0,\n",
       "              warm_start=False)"
      ]
     },
     "execution_count": 1976,
     "metadata": {},
     "output_type": "execute_result"
    }
   ],
   "source": [
    "%time gbt2.fit(x_train, y_train)"
   ]
  },
  {
   "cell_type": "code",
   "execution_count": 1977,
   "metadata": {
    "collapsed": false,
    "deletable": true,
    "editable": true,
    "scrolled": true
   },
   "outputs": [
    {
     "data": {
      "text/plain": [
       "<matplotlib.legend.Legend at 0x139ef5bd0>"
      ]
     },
     "execution_count": 1977,
     "metadata": {},
     "output_type": "execute_result"
    },
    {
     "data": {
      "image/png": "[encoded data removed]",
      "text/plain": [
       "<matplotlib.figure.Figure at 0x135b714d0>"
      ]
     },
     "metadata": {},
     "output_type": "display_data"
    }
   ],
   "source": [
    "score1 = [get_score(pred, y_train) for pred in gbt.staged_predict(x_train)]\n",
    "score2 = [get_score(pred, y_train) for pred in gbt2.staged_predict(x_train)]\n",
    "plt.plot(score1, label='my')\n",
    "plt.plot(score2, label='sklearn')\n",
    "plt.fill_between(xrange(len(score2)), np.array(score2) -np.mean(score2) * 0.03, \n",
    "                 np.array(score2) + np.mean(score2) * 0.03, alpha=0.1, color=\"g\")\n",
    "plt.legend()"
   ]
  },
  {
   "cell_type": "code",
   "execution_count": 1978,
   "metadata": {
    "collapsed": false,
    "deletable": true,
    "editable": true,
    "scrolled": true
   },
   "outputs": [
    {
     "data": {
      "text/plain": [
       "<matplotlib.legend.Legend at 0x13a3b9390>"
      ]
     },
     "execution_count": 1978,
     "metadata": {},
     "output_type": "execute_result"
    },
    {
     "data": {
      "image/png": "[encoded data removed]",
      "text/plain": [
       "<matplotlib.figure.Figure at 0x135d6b510>"
      ]
     },
     "metadata": {},
     "output_type": "display_data"
    }
   ],
   "source": [
    "plt.plot(score1[100:], label='my')\n",
    "plt.plot(score2[100:], label='sklearn')\n",
    "plt.fill_between(xrange(len(score2[100:])), np.array(score2[100:]) -np.mean(score2[100:]) * 0.03, \n",
    "                 np.array(score2[100:]) + np.mean(score2[100:]) * 0.03, alpha=0.1, color=\"g\")\n",
    "plt.legend()"
   ]
  },
  {
   "cell_type": "code",
   "execution_count": 22,
   "metadata": {
    "collapsed": true,
    "deletable": true,
    "editable": true
   },
   "outputs": [],
   "source": [
    "df_test = pd.read_csv('./spam.test.txt', sep=' ', header=None)"
   ]
  },
  {
   "cell_type": "code",
   "execution_count": 23,
   "metadata": {
    "collapsed": false,
    "deletable": true,
    "editable": true
   },
   "outputs": [
    {
     "data": {
      "text/html": [
       "<div>\n",
       "<table border=\"1\" class=\"dataframe\">\n",
       "  <thead>\n",
       "    <tr style=\"text-align: right;\">\n",
       "      <th></th>\n",
       "      <th>0</th>\n",
       "      <th>1</th>\n",
       "      <th>2</th>\n",
       "      <th>3</th>\n",
       "      <th>4</th>\n",
       "      <th>5</th>\n",
       "      <th>6</th>\n",
       "      <th>7</th>\n",
       "      <th>8</th>\n",
       "      <th>9</th>\n",
       "      <th>...</th>\n",
       "      <th>93</th>\n",
       "      <th>94</th>\n",
       "      <th>95</th>\n",
       "      <th>96</th>\n",
       "      <th>97</th>\n",
       "      <th>98</th>\n",
       "      <th>99</th>\n",
       "      <th>100</th>\n",
       "      <th>101</th>\n",
       "      <th>102</th>\n",
       "    </tr>\n",
       "  </thead>\n",
       "  <tbody>\n",
       "    <tr>\n",
       "      <th>0</th>\n",
       "      <td>1</td>\n",
       "      <td>0.445622</td>\n",
       "      <td>0.632602</td>\n",
       "      <td>0.368683</td>\n",
       "      <td>0.728974</td>\n",
       "      <td>0.479510</td>\n",
       "      <td>0.471833</td>\n",
       "      <td>0.571882</td>\n",
       "      <td>0.579280</td>\n",
       "      <td>0.604702</td>\n",
       "      <td>...</td>\n",
       "      <td>0.462762</td>\n",
       "      <td>0.448051</td>\n",
       "      <td>0.446374</td>\n",
       "      <td>0.424879</td>\n",
       "      <td>0.472828</td>\n",
       "      <td>0.450815</td>\n",
       "      <td>0.427943</td>\n",
       "      <td>0.416184</td>\n",
       "      <td>0.446429</td>\n",
       "      <td>0.667609</td>\n",
       "    </tr>\n",
       "    <tr>\n",
       "      <th>1</th>\n",
       "      <td>1</td>\n",
       "      <td>0.296747</td>\n",
       "      <td>0.632602</td>\n",
       "      <td>0.368683</td>\n",
       "      <td>0.330429</td>\n",
       "      <td>0.374055</td>\n",
       "      <td>0.451231</td>\n",
       "      <td>0.249144</td>\n",
       "      <td>0.431370</td>\n",
       "      <td>0.344248</td>\n",
       "      <td>...</td>\n",
       "      <td>0.462762</td>\n",
       "      <td>0.448051</td>\n",
       "      <td>0.916790</td>\n",
       "      <td>0.424879</td>\n",
       "      <td>0.472828</td>\n",
       "      <td>0.368804</td>\n",
       "      <td>0.464272</td>\n",
       "      <td>0.400264</td>\n",
       "      <td>0.547989</td>\n",
       "      <td>0.580435</td>\n",
       "    </tr>\n",
       "    <tr>\n",
       "      <th>2</th>\n",
       "      <td>1</td>\n",
       "      <td>0.296747</td>\n",
       "      <td>0.632602</td>\n",
       "      <td>0.368683</td>\n",
       "      <td>0.309466</td>\n",
       "      <td>0.392561</td>\n",
       "      <td>0.458103</td>\n",
       "      <td>0.289492</td>\n",
       "      <td>0.595944</td>\n",
       "      <td>0.574234</td>\n",
       "      <td>...</td>\n",
       "      <td>0.462762</td>\n",
       "      <td>0.448051</td>\n",
       "      <td>0.798868</td>\n",
       "      <td>0.424879</td>\n",
       "      <td>0.472828</td>\n",
       "      <td>0.368804</td>\n",
       "      <td>0.472316</td>\n",
       "      <td>0.415417</td>\n",
       "      <td>0.446429</td>\n",
       "      <td>0.781863</td>\n",
       "    </tr>\n",
       "    <tr>\n",
       "      <th>3</th>\n",
       "      <td>1</td>\n",
       "      <td>0.296747</td>\n",
       "      <td>0.184437</td>\n",
       "      <td>0.831801</td>\n",
       "      <td>0.239714</td>\n",
       "      <td>0.494042</td>\n",
       "      <td>0.716275</td>\n",
       "      <td>0.295862</td>\n",
       "      <td>0.349747</td>\n",
       "      <td>0.434139</td>\n",
       "      <td>...</td>\n",
       "      <td>0.462762</td>\n",
       "      <td>0.448051</td>\n",
       "      <td>0.446374</td>\n",
       "      <td>0.424879</td>\n",
       "      <td>0.472828</td>\n",
       "      <td>0.368804</td>\n",
       "      <td>0.427943</td>\n",
       "      <td>0.854188</td>\n",
       "      <td>0.543903</td>\n",
       "      <td>0.562639</td>\n",
       "    </tr>\n",
       "    <tr>\n",
       "      <th>4</th>\n",
       "      <td>1</td>\n",
       "      <td>0.368046</td>\n",
       "      <td>0.632602</td>\n",
       "      <td>0.368683</td>\n",
       "      <td>0.280957</td>\n",
       "      <td>0.380190</td>\n",
       "      <td>0.445567</td>\n",
       "      <td>0.339384</td>\n",
       "      <td>0.534049</td>\n",
       "      <td>0.522703</td>\n",
       "      <td>...</td>\n",
       "      <td>0.462762</td>\n",
       "      <td>0.448051</td>\n",
       "      <td>0.446374</td>\n",
       "      <td>0.533793</td>\n",
       "      <td>0.472828</td>\n",
       "      <td>0.812761</td>\n",
       "      <td>0.473772</td>\n",
       "      <td>0.400264</td>\n",
       "      <td>0.446429</td>\n",
       "      <td>0.659760</td>\n",
       "    </tr>\n",
       "  </tbody>\n",
       "</table>\n",
       "<p>5 rows × 103 columns</p>\n",
       "</div>"
      ],
      "text/plain": [
       "   0         1         2         3         4         5         6         7    \\\n",
       "0    1  0.445622  0.632602  0.368683  0.728974  0.479510  0.471833  0.571882   \n",
       "1    1  0.296747  0.632602  0.368683  0.330429  0.374055  0.451231  0.249144   \n",
       "2    1  0.296747  0.632602  0.368683  0.309466  0.392561  0.458103  0.289492   \n",
       "3    1  0.296747  0.184437  0.831801  0.239714  0.494042  0.716275  0.295862   \n",
       "4    1  0.368046  0.632602  0.368683  0.280957  0.380190  0.445567  0.339384   \n",
       "\n",
       "        8         9      ...          93        94        95        96   \\\n",
       "0  0.579280  0.604702    ...     0.462762  0.448051  0.446374  0.424879   \n",
       "1  0.431370  0.344248    ...     0.462762  0.448051  0.916790  0.424879   \n",
       "2  0.595944  0.574234    ...     0.462762  0.448051  0.798868  0.424879   \n",
       "3  0.349747  0.434139    ...     0.462762  0.448051  0.446374  0.424879   \n",
       "4  0.534049  0.522703    ...     0.462762  0.448051  0.446374  0.533793   \n",
       "\n",
       "        97        98        99        100       101       102  \n",
       "0  0.472828  0.450815  0.427943  0.416184  0.446429  0.667609  \n",
       "1  0.472828  0.368804  0.464272  0.400264  0.547989  0.580435  \n",
       "2  0.472828  0.368804  0.472316  0.415417  0.446429  0.781863  \n",
       "3  0.472828  0.368804  0.427943  0.854188  0.543903  0.562639  \n",
       "4  0.472828  0.812761  0.473772  0.400264  0.446429  0.659760  \n",
       "\n",
       "[5 rows x 103 columns]"
      ]
     },
     "execution_count": 23,
     "metadata": {},
     "output_type": "execute_result"
    }
   ],
   "source": [
    "df_test.head()"
   ]
  },
  {
   "cell_type": "code",
   "execution_count": 24,
   "metadata": {
    "collapsed": false,
    "deletable": true,
    "editable": true
   },
   "outputs": [
    {
     "data": {
      "text/plain": [
       "1    8023\n",
       "0    2033\n",
       "Name: 0, dtype: int64"
      ]
     },
     "execution_count": 24,
     "metadata": {},
     "output_type": "execute_result"
    }
   ],
   "source": [
    "df_test[0].value_counts()"
   ]
  },
  {
   "cell_type": "code",
   "execution_count": 25,
   "metadata": {
    "collapsed": true,
    "deletable": true,
    "editable": true
   },
   "outputs": [],
   "source": [
    "x_test = np.array(df_test.drop([0], axis=1))"
   ]
  },
  {
   "cell_type": "code",
   "execution_count": 26,
   "metadata": {
    "collapsed": true,
    "deletable": true,
    "editable": true
   },
   "outputs": [],
   "source": [
    "y_test = np.array(df_test[0])\n",
    "y_test = 2*y_test - 1"
   ]
  },
  {
   "cell_type": "code",
   "execution_count": 1979,
   "metadata": {
    "collapsed": false,
    "deletable": true,
    "editable": true,
    "scrolled": true
   },
   "outputs": [
    {
     "data": {
      "text/plain": [
       "<matplotlib.legend.Legend at 0x13a481a90>"
      ]
     },
     "execution_count": 1979,
     "metadata": {},
     "output_type": "execute_result"
    },
    {
     "data": {
      "image/png": "[encoded data removed]",
      "text/plain": [
       "<matplotlib.figure.Figure at 0x13945c8d0>"
      ]
     },
     "metadata": {},
     "output_type": "display_data"
    }
   ],
   "source": [
    "score1 = [get_score(pred, y_test) for pred in gbt.staged_predict(x_test)]\n",
    "score2 = [get_score(pred, y_test) for pred in gbt2.staged_predict(x_test)]\n",
    "plt.plot(score1,label='my')\n",
    "plt.plot(score2, label='sklearn')\n",
    "plt.fill_between(xrange(len(score2)), np.array(score2) -np.mean(score2) * 0.03, \n",
    "                 np.array(score2) + np.mean(score2) * 0.03, alpha=0.1, color=\"g\")\n",
    "plt.legend()"
   ]
  },
  {
   "cell_type": "code",
   "execution_count": 1980,
   "metadata": {
    "collapsed": false,
    "deletable": true,
    "editable": true,
    "scrolled": true
   },
   "outputs": [
    {
     "data": {
      "text/plain": [
       "<matplotlib.legend.Legend at 0x13a564090>"
      ]
     },
     "execution_count": 1980,
     "metadata": {},
     "output_type": "execute_result"
    },
    {
     "data": {
      "image/png": "[encoded data removed]",
      "text/plain": [
       "<matplotlib.figure.Figure at 0x13a4d0910>"
      ]
     },
     "metadata": {},
     "output_type": "display_data"
    }
   ],
   "source": [
    "score1 = score1[100:]\n",
    "score2 = score2[100:]\n",
    "plt.plot(score1,label='my')\n",
    "plt.plot(score2, label='sklearn')\n",
    "plt.fill_between(xrange(len(score2)), np.array(score2) -np.mean(score2) * 0.03, \n",
    "                 np.array(score2) + np.mean(score2) * 0.03, alpha=0.1, color=\"g\")\n",
    "plt.legend()"
   ]
  },
  {
   "cell_type": "markdown",
   "metadata": {
    "collapsed": true,
    "deletable": true,
    "editable": true
   },
   "source": [
    "### Stacking"
   ]
  },
  {
   "cell_type": "code",
   "execution_count": 29,
   "metadata": {
    "collapsed": true
   },
   "outputs": [],
   "source": [
    "from sklearn.cross_validation import KFold"
   ]
  },
  {
   "cell_type": "code",
   "execution_count": 34,
   "metadata": {
    "collapsed": true
   },
   "outputs": [],
   "source": [
    "class MeanModel(object):\n",
    "    def fit(self, x, y):\n",
    "        pass\n",
    "\n",
    "    @staticmethod\n",
    "    def predict(x):\n",
    "        return np.array(np.mean(x, axis=1) > 0.5, dtype=int)\n",
    "\n",
    "\n",
    "class Stack(object):\n",
    "    def __init__(self, meta_model=MeanModel(), models=[]):\n",
    "        self.models = models\n",
    "        self.meta_model = meta_model\n",
    "\n",
    "    def fit(self, x, y, n_folds=3):\n",
    "        folds = KFold(x.shape[0], n_folds)\n",
    "        meta_features = np.zeros((x.shape[0], len(self.models)))\n",
    "        \n",
    "        for base_index, meta_index in folds:\n",
    "            x_base, y_base = x[base_index], y[base_index]\n",
    "            x_meta, y_meta = x[meta_index], y[meta_index]\n",
    "\n",
    "            for i, model in enumerate(self.models):\n",
    "                print \"fold\", i\n",
    "                model.fit(x_base, y_base)\n",
    "                meta_features[meta_index, i] = model.predict(x_meta)\n",
    "            \n",
    "        self.meta_model.fit(meta_features, y)\n",
    "        for model in self.models:\n",
    "            model.fit(x, y)\n",
    "             \n",
    "        return self\n",
    "    \n",
    "    def predict(self, x):\n",
    "        meta_features = np.zeros((x.shape[0], len(self.models)))\n",
    "        for i, model in enumerate(self.models):\n",
    "            meta_features[:, i] = model.predict(x)\n",
    "        return self.meta_model.predict(meta_features)"
   ]
  },
  {
   "cell_type": "code",
   "execution_count": 9,
   "metadata": {
    "collapsed": true
   },
   "outputs": [],
   "source": [
    "from sklearn.linear_model import LogisticRegression\n",
    "from sklearn.neural_network import MLPClassifier"
   ]
  },
  {
   "cell_type": "code",
   "execution_count": 51,
   "metadata": {
    "collapsed": true
   },
   "outputs": [],
   "source": [
    "logreg = LogisticRegression(C=0.5)"
   ]
  },
  {
   "cell_type": "code",
   "execution_count": 52,
   "metadata": {
    "collapsed": true
   },
   "outputs": [],
   "source": [
    "neur = MLPClassifier()"
   ]
  },
  {
   "cell_type": "code",
   "execution_count": 53,
   "metadata": {
    "collapsed": true
   },
   "outputs": [],
   "source": [
    "gbt = GradientBoostingClassifier(max_depth=5, n_estimators=500)"
   ]
  },
  {
   "cell_type": "code",
   "execution_count": 54,
   "metadata": {
    "collapsed": true
   },
   "outputs": [],
   "source": [
    "st = Stack(meta_model=LogisticRegression(C=0.1), models=[gbt, logreg, neur])"
   ]
  },
  {
   "cell_type": "code",
   "execution_count": 55,
   "metadata": {
    "collapsed": false,
    "deletable": true,
    "editable": true
   },
   "outputs": [
    {
     "name": "stdout",
     "output_type": "stream",
     "text": [
      "(7093, 102) (10056, 102)\n"
     ]
    }
   ],
   "source": [
    "print x_train.shape, x_test.shape"
   ]
  },
  {
   "cell_type": "code",
   "execution_count": 56,
   "metadata": {
    "collapsed": false
   },
   "outputs": [
    {
     "name": "stdout",
     "output_type": "stream",
     "text": [
      "fold 0\n",
      "fold 1\n",
      "fold 2\n",
      "fold 0\n",
      "fold 1\n",
      "fold 2\n",
      "fold 0\n",
      "fold 1\n",
      "fold 2\n"
     ]
    },
    {
     "data": {
      "text/plain": [
       "<__main__.Stack at 0x1023046d0>"
      ]
     },
     "execution_count": 56,
     "metadata": {},
     "output_type": "execute_result"
    }
   ],
   "source": [
    "st.fit(x_train, y_train)"
   ]
  },
  {
   "cell_type": "code",
   "execution_count": 57,
   "metadata": {
    "collapsed": false
   },
   "outputs": [
    {
     "data": {
      "text/plain": [
       "1.0"
      ]
     },
     "execution_count": 57,
     "metadata": {},
     "output_type": "execute_result"
    }
   ],
   "source": [
    "roc_auc_score(y_train, st.predict(x_train))"
   ]
  },
  {
   "cell_type": "code",
   "execution_count": 58,
   "metadata": {
    "collapsed": false
   },
   "outputs": [
    {
     "name": "stdout",
     "output_type": "stream",
     "text": [
      "1.0\n",
      "0.951385060893\n",
      "0.954422509516\n"
     ]
    }
   ],
   "source": [
    "for model in st.models:\n",
    "    print roc_auc_score(y_train, model.predict(x_train))"
   ]
  },
  {
   "cell_type": "code",
   "execution_count": 59,
   "metadata": {
    "collapsed": false,
    "deletable": true,
    "editable": true
   },
   "outputs": [
    {
     "data": {
      "text/plain": [
       "0.93108597827973549"
      ]
     },
     "execution_count": 59,
     "metadata": {},
     "output_type": "execute_result"
    }
   ],
   "source": [
    "roc_auc_score(y_test, st.predict(x_test))"
   ]
  },
  {
   "cell_type": "code",
   "execution_count": 60,
   "metadata": {
    "collapsed": false,
    "deletable": true,
    "editable": true
   },
   "outputs": [
    {
     "name": "stdout",
     "output_type": "stream",
     "text": [
      "0.93108597828\n",
      "0.921612905935\n",
      "0.923935483321\n"
     ]
    }
   ],
   "source": [
    "for model in st.models:\n",
    "    print roc_auc_score(y_test, model.predict(x_test))"
   ]
  },
  {
   "cell_type": "code",
   "execution_count": 61,
   "metadata": {
    "collapsed": false
   },
   "outputs": [
    {
     "data": {
      "text/plain": [
       "0.96932515337423308"
      ]
     },
     "execution_count": 61,
     "metadata": {},
     "output_type": "execute_result"
    }
   ],
   "source": [
    "f1_score(y_test, st.predict(x_test))"
   ]
  },
  {
   "cell_type": "code",
   "execution_count": 62,
   "metadata": {
    "collapsed": false
   },
   "outputs": [
    {
     "name": "stdout",
     "output_type": "stream",
     "text": [
      "0.969325153374\n",
      "0.936337437778\n",
      "0.939986953686\n"
     ]
    }
   ],
   "source": [
    "for model in st.models:\n",
    "    print f1_score(y_test, model.predict(x_test))"
   ]
  },
  {
   "cell_type": "code",
   "execution_count": null,
   "metadata": {
    "collapsed": true
   },
   "outputs": [],
   "source": []
  },
  {
   "cell_type": "code",
   "execution_count": null,
   "metadata": {
    "collapsed": true
   },
   "outputs": [],
   "source": []
  },
  {
   "cell_type": "code",
   "execution_count": null,
   "metadata": {
    "collapsed": true
   },
   "outputs": [],
   "source": []
  },
  {
   "cell_type": "code",
   "execution_count": null,
   "metadata": {
    "collapsed": true
   },
   "outputs": [],
   "source": []
  },
  {
   "cell_type": "code",
   "execution_count": null,
   "metadata": {
    "collapsed": true,
    "deletable": true,
    "editable": true
   },
   "outputs": [],
   "source": []
  },
  {
   "cell_type": "code",
   "execution_count": null,
   "metadata": {
    "collapsed": true,
    "deletable": true,
    "editable": true
   },
   "outputs": [],
   "source": []
  }
 ],
 "metadata": {
  "kernelspec": {
   "display_name": "Python 2",
   "language": "python",
   "name": "python2"
  },
  "language_info": {
   "codemirror_mode": {
    "name": "ipython",
    "version": 2
   },
   "file_extension": ".py",
   "mimetype": "text/x-python",
   "name": "python",
   "nbconvert_exporter": "python",
   "pygments_lexer": "ipython2",
   "version": "2.7.10"
  }
 },
 "nbformat": 4,
 "nbformat_minor": 2
}
